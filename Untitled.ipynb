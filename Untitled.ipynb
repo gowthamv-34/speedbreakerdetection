{
 "cells": [
  {
   "cell_type": "code",
   "execution_count": 1,
   "id": "5420231f",
   "metadata": {},
   "outputs": [],
   "source": [
    "import cv2"
   ]
  },
  {
   "cell_type": "code",
   "execution_count": 2,
   "id": "66d6b647",
   "metadata": {},
   "outputs": [],
   "source": [
    "img1=cv2.imread('imagequery/speed1.jpg',0)\n",
    "img2=cv2.imread('imagetrain/speed1.jpg',0)\n",
    "\n",
    "\n"
   ]
  },
  {
   "cell_type": "code",
   "execution_count": 3,
   "id": "c0d2394f",
   "metadata": {},
   "outputs": [],
   "source": [
    "orb=cv2.ORB_create(nfeatures=1000)\n",
    "\n",
    "kp1,des1=orb.detectAndCompute(img1,None)\n",
    "kp2,des2=orb.detectAndCompute(img2,None)\n",
    "\n",
    "#imgkp1 =cv2.drawKeypoints(img1,kp1,None)\n",
    "#imgkp2 =cv2.drawKeypoints(img2,kp2,None)\n"
   ]
  },
  {
   "cell_type": "code",
   "execution_count": null,
   "id": "60008293",
   "metadata": {},
   "outputs": [
    {
     "name": "stdout",
     "output_type": "stream",
     "text": [
      "7\n"
     ]
    }
   ],
   "source": [
    "bf =cv2.BFMatcher()\n",
    "matches = bf.knnMatch(des1,des2,k=2)\n",
    "\n",
    "good = []\n",
    "for m,n in matches:\n",
    "    if m.distance <0.75 * n.distance:\n",
    "        good.append([m])\n",
    "print(len(good))\n",
    "        \n",
    "img3=cv2.drawMatchesKnn(img1,kp1,img2,kp2,good,None,flags=2)\n",
    "\n",
    "#cv2.imshow('kp1',imgkp1)\n",
    "#cv2.imshow('kp2',imgkp2)\n",
    "cv2.imshow('img1',img1)\n",
    "cv2.imshow('img',img2)\n",
    "cv2.imshow('img3',img3)\n",
    "cv2.waitKey(0)"
   ]
  },
  {
   "cell_type": "code",
   "execution_count": null,
   "id": "174f9cf1",
   "metadata": {},
   "outputs": [],
   "source": []
  }
 ],
 "metadata": {
  "kernelspec": {
   "display_name": "Python 3 (ipykernel)",
   "language": "python",
   "name": "python3"
  },
  "language_info": {
   "codemirror_mode": {
    "name": "ipython",
    "version": 3
   },
   "file_extension": ".py",
   "mimetype": "text/x-python",
   "name": "python",
   "nbconvert_exporter": "python",
   "pygments_lexer": "ipython3",
   "version": "3.9.12"
  }
 },
 "nbformat": 4,
 "nbformat_minor": 5
}
